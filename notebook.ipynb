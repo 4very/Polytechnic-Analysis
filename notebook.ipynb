{
 "cells": [
  {
   "cell_type": "code",
   "execution_count": 27,
   "metadata": {
    "pycharm": {
     "is_executing": false
    }
   },
   "outputs": [
    {
     "data": {
      "text/plain": "                               gallery-photographers  \\\n0  [Madeline Wilson, Madeline Wilson, Madeline Wi...   \n1                                                 []   \n2                                                 []   \n3                                                 []   \n4                                                 []   \n\n                                                body _type block-captions  \\\n0  This Sunday, Troy was cast back into 19th cent...  dict             []   \n1  As a huge space nerd, I was ecstatic to hear t...  dict             []   \n2  On Saturday, the McNeil Room was cleared of ta...  dict             []   \n3   Professor Jonathan Dordick retired from his p...  dict             []   \n4  On June 8, President Shirley Ann Jackson email...  dict             []   \n\n   has-featured-photo               author  \\\n0                True         Lisa Knuckey   \n1                True           John Stotz   \n2                True          Namish Gali   \n3               False  Anahit Hovhannisyan   \n4               False      Nicholas Luczak   \n\n                                            headline   section  \\\n0  Troy kicks off holiday season with Victorian S...  Features   \n1  Panel hosted at EMPAC answers, “Are we going t...  Features   \n2  Union After Dark features Black Tie Stereo, st...  Features   \n3          Former VP for research returns to faculty      News   \n4  Strong suspends Greek recruitment until furthe...      News   \n\n   num-gallery-photos                             featured-photo-caption  \\\n0                   6                                                      \n1                   0  RPI PANELISTS, INCLUDING PRESIDENT SHIRLEY ANN...   \n2                   5  BLACK TIE STEREO LEAD GUITARIST JESSE MORVAN P...   \n3                   0                                                      \n4                   0                                                      \n\n                                                 url          kicker  \\\n0  https://poly.rpi.edu/features/2018/12/troy-kic...  Cultural Event   \n1  https://poly.rpi.edu/features/2018/10/panel-ho...     Empac Event   \n2  https://poly.rpi.edu/features/2018/11/union-af...    Campus Event   \n3  https://poly.rpi.edu/news/2018/09/former-vp-fo...       Interview   \n4  https://poly.rpi.edu/news/2018/08/strong-suspe...      Greek Life   \n\n  featured-photo-photographer        posted-date gallery-captions  \\\n0             Madeline Wilson   December 5, 2018     [, , , , , ]   \n1             Nicholas Luczak    October 3, 2018               []   \n2           Brookelyn Parslow   November 7, 2018       [, , , , ]   \n3                        None  September 5, 2018               []   \n4                        None    August 11, 2018               []   \n\n  block-photographers  num-block-photos  \n0                  []                 0  \n1                  []                 0  \n2                  []                 0  \n3                  []                 0  \n4                  []                 0  ",
      "text/html": "<div>\n<style scoped>\n    .dataframe tbody tr th:only-of-type {\n        vertical-align: middle;\n    }\n\n    .dataframe tbody tr th {\n        vertical-align: top;\n    }\n\n    .dataframe thead th {\n        text-align: right;\n    }\n</style>\n<table border=\"1\" class=\"dataframe\">\n  <thead>\n    <tr style=\"text-align: right;\">\n      <th></th>\n      <th>gallery-photographers</th>\n      <th>body</th>\n      <th>_type</th>\n      <th>block-captions</th>\n      <th>has-featured-photo</th>\n      <th>author</th>\n      <th>headline</th>\n      <th>section</th>\n      <th>num-gallery-photos</th>\n      <th>featured-photo-caption</th>\n      <th>url</th>\n      <th>kicker</th>\n      <th>featured-photo-photographer</th>\n      <th>posted-date</th>\n      <th>gallery-captions</th>\n      <th>block-photographers</th>\n      <th>num-block-photos</th>\n    </tr>\n  </thead>\n  <tbody>\n    <tr>\n      <th>0</th>\n      <td>[Madeline Wilson, Madeline Wilson, Madeline Wi...</td>\n      <td>This Sunday, Troy was cast back into 19th cent...</td>\n      <td>dict</td>\n      <td>[]</td>\n      <td>True</td>\n      <td>Lisa Knuckey</td>\n      <td>Troy kicks off holiday season with Victorian S...</td>\n      <td>Features</td>\n      <td>6</td>\n      <td></td>\n      <td>https://poly.rpi.edu/features/2018/12/troy-kic...</td>\n      <td>Cultural Event</td>\n      <td>Madeline Wilson</td>\n      <td>December 5, 2018</td>\n      <td>[, , , , , ]</td>\n      <td>[]</td>\n      <td>0</td>\n    </tr>\n    <tr>\n      <th>1</th>\n      <td>[]</td>\n      <td>As a huge space nerd, I was ecstatic to hear t...</td>\n      <td>dict</td>\n      <td>[]</td>\n      <td>True</td>\n      <td>John Stotz</td>\n      <td>Panel hosted at EMPAC answers, “Are we going t...</td>\n      <td>Features</td>\n      <td>0</td>\n      <td>RPI PANELISTS, INCLUDING PRESIDENT SHIRLEY ANN...</td>\n      <td>https://poly.rpi.edu/features/2018/10/panel-ho...</td>\n      <td>Empac Event</td>\n      <td>Nicholas Luczak</td>\n      <td>October 3, 2018</td>\n      <td>[]</td>\n      <td>[]</td>\n      <td>0</td>\n    </tr>\n    <tr>\n      <th>2</th>\n      <td>[]</td>\n      <td>On Saturday, the McNeil Room was cleared of ta...</td>\n      <td>dict</td>\n      <td>[]</td>\n      <td>True</td>\n      <td>Namish Gali</td>\n      <td>Union After Dark features Black Tie Stereo, st...</td>\n      <td>Features</td>\n      <td>5</td>\n      <td>BLACK TIE STEREO LEAD GUITARIST JESSE MORVAN P...</td>\n      <td>https://poly.rpi.edu/features/2018/11/union-af...</td>\n      <td>Campus Event</td>\n      <td>Brookelyn Parslow</td>\n      <td>November 7, 2018</td>\n      <td>[, , , , ]</td>\n      <td>[]</td>\n      <td>0</td>\n    </tr>\n    <tr>\n      <th>3</th>\n      <td>[]</td>\n      <td>Professor Jonathan Dordick retired from his p...</td>\n      <td>dict</td>\n      <td>[]</td>\n      <td>False</td>\n      <td>Anahit Hovhannisyan</td>\n      <td>Former VP for research returns to faculty</td>\n      <td>News</td>\n      <td>0</td>\n      <td></td>\n      <td>https://poly.rpi.edu/news/2018/09/former-vp-fo...</td>\n      <td>Interview</td>\n      <td>None</td>\n      <td>September 5, 2018</td>\n      <td>[]</td>\n      <td>[]</td>\n      <td>0</td>\n    </tr>\n    <tr>\n      <th>4</th>\n      <td>[]</td>\n      <td>On June 8, President Shirley Ann Jackson email...</td>\n      <td>dict</td>\n      <td>[]</td>\n      <td>False</td>\n      <td>Nicholas Luczak</td>\n      <td>Strong suspends Greek recruitment until furthe...</td>\n      <td>News</td>\n      <td>0</td>\n      <td></td>\n      <td>https://poly.rpi.edu/news/2018/08/strong-suspe...</td>\n      <td>Greek Life</td>\n      <td>None</td>\n      <td>August 11, 2018</td>\n      <td>[]</td>\n      <td>[]</td>\n      <td>0</td>\n    </tr>\n  </tbody>\n</table>\n</div>"
     },
     "metadata": {},
     "output_type": "execute_result",
     "execution_count": 27
    }
   ],
   "source": [
    "import pandas as pd\n",
    "\n",
    "df_pl = pd.read_json(\"data/items_Pipeline_4.json\")\n",
    "df_wp = pd.read_json(\"data/items_Wordpress_4.json\")\n",
    "\n",
    "df = pd.concat([df_pl, df_wp])\n",
    "df.head()"
   ]
  },
  {
   "cell_type": "code",
   "execution_count": 28,
   "metadata": {
    "pycharm": {
     "is_executing": false
    }
   },
   "outputs": [
    {
     "name": "stderr",
     "text": [
      "/home/avery/anaconda3/envs/poly-data/lib/python3.7/site-packages/pandas/core/strings.py:1843: UserWarning: This pattern has match groups. To actually get the groups, use str.extract.\n",
      "  return func(self, *args, **kwargs)\n"
     ],
     "output_type": "stream"
    }
   ],
   "source": [
    "df_a = {'name': ['temp'], 'val': [0]}\n",
    "\n",
    "for auth in df[\"author\"].unique():\n",
    "    \n",
    "    val = len(df[df[\"author\"].str.contains(auth, na=False)])\n",
    "    \n",
    "    df_a['name'].append(auth)\n",
    "    df_a['val'].append(val)\n",
    "    \n",
    "    \n",
    "df_auth = pd.DataFrame(df_a)\n",
    "df_auth.sort_values(by=\"val\",inplace=True, ascending=False)"
   ]
  },
  {
   "cell_type": "code",
   "execution_count": 55,
   "metadata": {
    "pycharm": {
     "is_executing": false,
     "name": "#%%\n"
    }
   },
   "outputs": [
    {
     "data": {
      "text/plain": "                                  gallery-photographers  \\\n0     [Madeline Wilson, Madeline Wilson, Madeline Wi...   \n12    [Madeline Wilson, Madeline Wilson, Madeline Wi...   \n19           [Avery Sommer, Avery Sommer, Avery Sommer]   \n35    [Madeline Wilson, Brookelyn Parslow, Brookelyn...   \n37    [Madeline Wilson, Madeline Wilson, Madeline Wi...   \n...                                                 ...   \n3560                                             [None]   \n3561                                             [None]   \n3562                                             [None]   \n3563                                             [None]   \n3564                                             [None]   \n\n                                                   body _type block-captions  \\\n0     This Sunday, Troy was cast back into 19th cent...  dict             []   \n12    On Friday, Troy Night Out took place in Downto...  dict             []   \n19    Welcome Fest, the penultimate Navigating Renss...  dict             []   \n35    Out of the many clubs promoting sustainability...  dict             []   \n37    Ground Zero Basement held an underground music...  dict             []   \n...                                                 ...   ...            ...   \n3560  Welcome back! Yea, yea, yea — too bad I only l...  dict             []   \n3561  Welcome back for the start of another great se...  dict             []   \n3562  To the Editor: As was reported recently in The...  dict             []   \n3563  To the Editor: In the December 6 issue of The ...  dict             []   \n3564  Coming back to RPI from my home, I realized th...  dict             []   \n\n      has-featured-photo                author  \\\n0                   True          Lisa Knuckey   \n12                  True       Madeline Wilson   \n19                  True          Avery Sommer   \n35                  True          Pragati Pant   \n37                  True       Madeline Wilson   \n...                  ...                   ...   \n3560               False          Joseph Greco   \n3561               False          Eric Schmidt   \n3562               False  William E. Bobrowski   \n3563               False     Ethan H. Schwartz   \n3564               False         Jim Carpenter   \n\n                                               headline            section  \\\n0     Troy kicks off holiday season with Victorian S...           Features   \n12                Troy Night Out exceeds ex-pup-tations           Features   \n19              Welcoming incoming freshmen with a Fest           Features   \n35             Giving sustainability a scrumptious spin           Features   \n37                         Ground Zero hosts \"Sick Gig\"           Features   \n...                                                 ...                ...   \n3560  GM addresses campus wish list, makes some of h...  Editorial/Opinion   \n3561            Bylaws, mentoring focus for UC’s spring  Editorial/Opinion   \n3562                         Councils seen as redundant  Editorial/Opinion   \n3563           Final exam scheduling found impenetrable  Editorial/Opinion   \n3564  For alternative to Troy nightlife, try Glens F...           Features   \n\n      num-gallery-photos                             featured-photo-caption  \\\n0                      6                                                      \n12                     3  DOGS WERE seen all over Downtown during the la...   \n19                     3                                                      \n35                     6  NEWS EDITOR MADELINE WILSON '22 AND JACOB THOM...   \n37                     3  ZAIRE WILSON '20 PERFORMS for an avid crowd as...   \n...                  ...                                                ...   \n3560                   0                                               None   \n3561                   0                                               None   \n3562                   0                                               None   \n3563                   0                                               None   \n3564                   0                                               None   \n\n                                                    url  \\\n0     https://poly.rpi.edu/features/2018/12/troy-kic...   \n12    https://poly.rpi.edu/features/2019/10/troy-nig...   \n19    https://poly.rpi.edu/features/2019/09/welcomin...   \n35    https://poly.rpi.edu/features/2019/09/giving-s...   \n37    https://poly.rpi.edu/features/2019/09/ground-z...   \n...                                                 ...   \n3560  https://poly.rpi.edu/2001/01/10/gm-addresses-c...   \n3561  https://poly.rpi.edu/2001/01/10/bylaws-mentori...   \n3562  https://poly.rpi.edu/2001/01/10/councils-seen-...   \n3563  https://poly.rpi.edu/2001/01/10/final-exam-sch...   \n3564  https://poly.rpi.edu/2001/01/10/for-alternativ...   \n\n                     kicker featured-photo-photographer         posted-date  \\\n0            Cultural Event             Madeline Wilson    December 5, 2018   \n12            Downtown Troy             Madeline Wilson     October 2, 2019   \n19          On-Campus Event                Avery Sommer  September 11, 2019   \n35           Club Spotlight           Brookelyn Parslow  September 25, 2019   \n37          On-Campus Event             Madeline Wilson  September 25, 2019   \n...                     ...                         ...                 ...   \n3560                TOP HAT                        None    January 10, 2001   \n3561  UNDERGRADUATE COUNCIL                        None    January 10, 2001   \n3562   LETTER TO THE EDITOR                        None    January 10, 2001   \n3563   LETTER TO THE EDITOR                        None    January 10, 2001   \n3564                   None                        None    January 10, 2001   \n\n                                       gallery-captions block-photographers  \\\n0                                          [, , , , , ]                  []   \n12                                               [, , ]                  []   \n19                                               [, , ]                  []   \n35    [VEGAN CHOCOLATE CHIP CUPCAKES WERE offered as...                  []   \n37    [ZAIRE THE ZEITGEIST ENTERTAINS the Ground Zer...                  []   \n...                                                 ...                 ...   \n3560                                                                     []   \n3561                                                                     []   \n3562                                                                     []   \n3563                                                                     []   \n3564                                                                     []   \n\n      num-block-photos  \n0                    0  \n12                   0  \n19                   0  \n35                   0  \n37                   0  \n...                ...  \n3560                 0  \n3561                 0  \n3562                 0  \n3563                 0  \n3564                 0  \n\n[3604 rows x 17 columns]",
      "text/html": "<div>\n<style scoped>\n    .dataframe tbody tr th:only-of-type {\n        vertical-align: middle;\n    }\n\n    .dataframe tbody tr th {\n        vertical-align: top;\n    }\n\n    .dataframe thead th {\n        text-align: right;\n    }\n</style>\n<table border=\"1\" class=\"dataframe\">\n  <thead>\n    <tr style=\"text-align: right;\">\n      <th></th>\n      <th>gallery-photographers</th>\n      <th>body</th>\n      <th>_type</th>\n      <th>block-captions</th>\n      <th>has-featured-photo</th>\n      <th>author</th>\n      <th>headline</th>\n      <th>section</th>\n      <th>num-gallery-photos</th>\n      <th>featured-photo-caption</th>\n      <th>url</th>\n      <th>kicker</th>\n      <th>featured-photo-photographer</th>\n      <th>posted-date</th>\n      <th>gallery-captions</th>\n      <th>block-photographers</th>\n      <th>num-block-photos</th>\n    </tr>\n  </thead>\n  <tbody>\n    <tr>\n      <th>0</th>\n      <td>[Madeline Wilson, Madeline Wilson, Madeline Wi...</td>\n      <td>This Sunday, Troy was cast back into 19th cent...</td>\n      <td>dict</td>\n      <td>[]</td>\n      <td>True</td>\n      <td>Lisa Knuckey</td>\n      <td>Troy kicks off holiday season with Victorian S...</td>\n      <td>Features</td>\n      <td>6</td>\n      <td></td>\n      <td>https://poly.rpi.edu/features/2018/12/troy-kic...</td>\n      <td>Cultural Event</td>\n      <td>Madeline Wilson</td>\n      <td>December 5, 2018</td>\n      <td>[, , , , , ]</td>\n      <td>[]</td>\n      <td>0</td>\n    </tr>\n    <tr>\n      <th>12</th>\n      <td>[Madeline Wilson, Madeline Wilson, Madeline Wi...</td>\n      <td>On Friday, Troy Night Out took place in Downto...</td>\n      <td>dict</td>\n      <td>[]</td>\n      <td>True</td>\n      <td>Madeline Wilson</td>\n      <td>Troy Night Out exceeds ex-pup-tations</td>\n      <td>Features</td>\n      <td>3</td>\n      <td>DOGS WERE seen all over Downtown during the la...</td>\n      <td>https://poly.rpi.edu/features/2019/10/troy-nig...</td>\n      <td>Downtown Troy</td>\n      <td>Madeline Wilson</td>\n      <td>October 2, 2019</td>\n      <td>[, , ]</td>\n      <td>[]</td>\n      <td>0</td>\n    </tr>\n    <tr>\n      <th>19</th>\n      <td>[Avery Sommer, Avery Sommer, Avery Sommer]</td>\n      <td>Welcome Fest, the penultimate Navigating Renss...</td>\n      <td>dict</td>\n      <td>[]</td>\n      <td>True</td>\n      <td>Avery Sommer</td>\n      <td>Welcoming incoming freshmen with a Fest</td>\n      <td>Features</td>\n      <td>3</td>\n      <td></td>\n      <td>https://poly.rpi.edu/features/2019/09/welcomin...</td>\n      <td>On-Campus Event</td>\n      <td>Avery Sommer</td>\n      <td>September 11, 2019</td>\n      <td>[, , ]</td>\n      <td>[]</td>\n      <td>0</td>\n    </tr>\n    <tr>\n      <th>35</th>\n      <td>[Madeline Wilson, Brookelyn Parslow, Brookelyn...</td>\n      <td>Out of the many clubs promoting sustainability...</td>\n      <td>dict</td>\n      <td>[]</td>\n      <td>True</td>\n      <td>Pragati Pant</td>\n      <td>Giving sustainability a scrumptious spin</td>\n      <td>Features</td>\n      <td>6</td>\n      <td>NEWS EDITOR MADELINE WILSON '22 AND JACOB THOM...</td>\n      <td>https://poly.rpi.edu/features/2019/09/giving-s...</td>\n      <td>Club Spotlight</td>\n      <td>Brookelyn Parslow</td>\n      <td>September 25, 2019</td>\n      <td>[VEGAN CHOCOLATE CHIP CUPCAKES WERE offered as...</td>\n      <td>[]</td>\n      <td>0</td>\n    </tr>\n    <tr>\n      <th>37</th>\n      <td>[Madeline Wilson, Madeline Wilson, Madeline Wi...</td>\n      <td>Ground Zero Basement held an underground music...</td>\n      <td>dict</td>\n      <td>[]</td>\n      <td>True</td>\n      <td>Madeline Wilson</td>\n      <td>Ground Zero hosts \"Sick Gig\"</td>\n      <td>Features</td>\n      <td>3</td>\n      <td>ZAIRE WILSON '20 PERFORMS for an avid crowd as...</td>\n      <td>https://poly.rpi.edu/features/2019/09/ground-z...</td>\n      <td>On-Campus Event</td>\n      <td>Madeline Wilson</td>\n      <td>September 25, 2019</td>\n      <td>[ZAIRE THE ZEITGEIST ENTERTAINS the Ground Zer...</td>\n      <td>[]</td>\n      <td>0</td>\n    </tr>\n    <tr>\n      <th>...</th>\n      <td>...</td>\n      <td>...</td>\n      <td>...</td>\n      <td>...</td>\n      <td>...</td>\n      <td>...</td>\n      <td>...</td>\n      <td>...</td>\n      <td>...</td>\n      <td>...</td>\n      <td>...</td>\n      <td>...</td>\n      <td>...</td>\n      <td>...</td>\n      <td>...</td>\n      <td>...</td>\n      <td>...</td>\n    </tr>\n    <tr>\n      <th>3560</th>\n      <td>[None]</td>\n      <td>Welcome back! Yea, yea, yea — too bad I only l...</td>\n      <td>dict</td>\n      <td>[]</td>\n      <td>False</td>\n      <td>Joseph Greco</td>\n      <td>GM addresses campus wish list, makes some of h...</td>\n      <td>Editorial/Opinion</td>\n      <td>0</td>\n      <td>None</td>\n      <td>https://poly.rpi.edu/2001/01/10/gm-addresses-c...</td>\n      <td>TOP HAT</td>\n      <td>None</td>\n      <td>January 10, 2001</td>\n      <td></td>\n      <td>[]</td>\n      <td>0</td>\n    </tr>\n    <tr>\n      <th>3561</th>\n      <td>[None]</td>\n      <td>Welcome back for the start of another great se...</td>\n      <td>dict</td>\n      <td>[]</td>\n      <td>False</td>\n      <td>Eric Schmidt</td>\n      <td>Bylaws, mentoring focus for UC’s spring</td>\n      <td>Editorial/Opinion</td>\n      <td>0</td>\n      <td>None</td>\n      <td>https://poly.rpi.edu/2001/01/10/bylaws-mentori...</td>\n      <td>UNDERGRADUATE COUNCIL</td>\n      <td>None</td>\n      <td>January 10, 2001</td>\n      <td></td>\n      <td>[]</td>\n      <td>0</td>\n    </tr>\n    <tr>\n      <th>3562</th>\n      <td>[None]</td>\n      <td>To the Editor: As was reported recently in The...</td>\n      <td>dict</td>\n      <td>[]</td>\n      <td>False</td>\n      <td>William E. Bobrowski</td>\n      <td>Councils seen as redundant</td>\n      <td>Editorial/Opinion</td>\n      <td>0</td>\n      <td>None</td>\n      <td>https://poly.rpi.edu/2001/01/10/councils-seen-...</td>\n      <td>LETTER TO THE EDITOR</td>\n      <td>None</td>\n      <td>January 10, 2001</td>\n      <td></td>\n      <td>[]</td>\n      <td>0</td>\n    </tr>\n    <tr>\n      <th>3563</th>\n      <td>[None]</td>\n      <td>To the Editor: In the December 6 issue of The ...</td>\n      <td>dict</td>\n      <td>[]</td>\n      <td>False</td>\n      <td>Ethan H. Schwartz</td>\n      <td>Final exam scheduling found impenetrable</td>\n      <td>Editorial/Opinion</td>\n      <td>0</td>\n      <td>None</td>\n      <td>https://poly.rpi.edu/2001/01/10/final-exam-sch...</td>\n      <td>LETTER TO THE EDITOR</td>\n      <td>None</td>\n      <td>January 10, 2001</td>\n      <td></td>\n      <td>[]</td>\n      <td>0</td>\n    </tr>\n    <tr>\n      <th>3564</th>\n      <td>[None]</td>\n      <td>Coming back to RPI from my home, I realized th...</td>\n      <td>dict</td>\n      <td>[]</td>\n      <td>False</td>\n      <td>Jim Carpenter</td>\n      <td>For alternative to Troy nightlife, try Glens F...</td>\n      <td>Features</td>\n      <td>0</td>\n      <td>None</td>\n      <td>https://poly.rpi.edu/2001/01/10/for-alternativ...</td>\n      <td>None</td>\n      <td>None</td>\n      <td>January 10, 2001</td>\n      <td></td>\n      <td>[]</td>\n      <td>0</td>\n    </tr>\n  </tbody>\n</table>\n<p>3604 rows × 17 columns</p>\n</div>"
     },
     "metadata": {},
     "output_type": "execute_result",
     "execution_count": 55
    }
   ],
   "source": [
    "df_gallery = df[df[\"gallery-photographers\"].str.len() != 0]\n",
    "df_gallery"
   ]
  },
  {
   "cell_type": "code",
   "execution_count": 70,
   "outputs": [
    {
     "name": "stdout",
     "text": [
      "['Avery Sommer', 'Avery Sommer', 'Avery Sommer']\n",
      "['August Gehrman', 'Avery Sommer', 'Avery Sommer', 'August Gehrman']\n",
      "['Avery Sommer', 'Avery Sommer', 'Avery Sommer', 'Avery Sommer']\n",
      "['Avery Sommer']\n",
      "['Avery Sommer', 'Avery Sommer', 'Avery Sommer', 'Avery Sommer']\n",
      "['Avery Sommer', 'Avery Sommer', 'Avery Sommer', 'Avery Sommer', 'Avery Sommer']\n",
      "['Avery Sommer', 'Avery Sommer', 'Avery Sommer', 'Avery Sommer', 'Avery Sommer', 'Avery Sommer']\n",
      "['Avery Sommer', 'Avery Sommer', 'Avery Sommer', 'Avery Sommer', 'Avery Sommer']\n"
     ],
     "output_type": "stream"
    }
   ],
   "source": [
    "for gallery in df[\"gallery-photographers\"].values + df[\"block-photographers\"].values:\n",
    "    if \"Avery Sommer\" in gallery:\n",
    "        print(gallery)\n"
   ],
   "metadata": {
    "collapsed": false,
    "pycharm": {
     "name": "#%%\n",
     "is_executing": false
    }
   }
  },
  {
   "cell_type": "code",
   "execution_count": 69,
   "outputs": [
    {
     "name": "stderr",
     "text": [
      "/home/avery/anaconda3/envs/poly-data/lib/python3.7/site-packages/ipykernel_launcher.py:1: UserWarning: Boolean Series key will be reindexed to match DataFrame index.\n",
      "  \"\"\"Entry point for launching an IPython kernel.\n"
     ],
     "output_type": "stream"
    },
    {
     "traceback": [
      "\u001b[0;31m---------------------------------------------------------------------------\u001b[0m",
      "\u001b[0;31mValueError\u001b[0m                                Traceback (most recent call last)",
      "\u001b[0;32m<ipython-input-69-e5f06427ec72>\u001b[0m in \u001b[0;36m<module>\u001b[0;34m\u001b[0m\n\u001b[0;32m----> 1\u001b[0;31m \u001b[0mdf\u001b[0m\u001b[0;34m[\u001b[0m\u001b[0mdf\u001b[0m\u001b[0;34m[\u001b[0m\u001b[0;34m\"headline\"\u001b[0m\u001b[0;34m]\u001b[0m\u001b[0;34m.\u001b[0m\u001b[0mdropna\u001b[0m\u001b[0;34m(\u001b[0m\u001b[0;34m)\u001b[0m\u001b[0;34m.\u001b[0m\u001b[0mstr\u001b[0m\u001b[0;34m.\u001b[0m\u001b[0mcontains\u001b[0m\u001b[0;34m(\u001b[0m\u001b[0;34m\"Cry\"\u001b[0m\u001b[0;34m)\u001b[0m\u001b[0;34m]\u001b[0m\u001b[0;34m\u001b[0m\u001b[0;34m\u001b[0m\u001b[0m\n\u001b[0m\u001b[1;32m      2\u001b[0m \u001b[0;34m\u001b[0m\u001b[0m\n",
      "\u001b[0;32m~/anaconda3/envs/poly-data/lib/python3.7/site-packages/pandas/core/frame.py\u001b[0m in \u001b[0;36m__getitem__\u001b[0;34m(self, key)\u001b[0m\n\u001b[1;32m   2984\u001b[0m         \u001b[0;31m# Do we have a (boolean) 1d indexer?\u001b[0m\u001b[0;34m\u001b[0m\u001b[0;34m\u001b[0m\u001b[0;34m\u001b[0m\u001b[0m\n\u001b[1;32m   2985\u001b[0m         \u001b[0;32mif\u001b[0m \u001b[0mcom\u001b[0m\u001b[0;34m.\u001b[0m\u001b[0mis_bool_indexer\u001b[0m\u001b[0;34m(\u001b[0m\u001b[0mkey\u001b[0m\u001b[0;34m)\u001b[0m\u001b[0;34m:\u001b[0m\u001b[0;34m\u001b[0m\u001b[0;34m\u001b[0m\u001b[0m\n\u001b[0;32m-> 2986\u001b[0;31m             \u001b[0;32mreturn\u001b[0m \u001b[0mself\u001b[0m\u001b[0;34m.\u001b[0m\u001b[0m_getitem_bool_array\u001b[0m\u001b[0;34m(\u001b[0m\u001b[0mkey\u001b[0m\u001b[0;34m)\u001b[0m\u001b[0;34m\u001b[0m\u001b[0;34m\u001b[0m\u001b[0m\n\u001b[0m\u001b[1;32m   2987\u001b[0m \u001b[0;34m\u001b[0m\u001b[0m\n\u001b[1;32m   2988\u001b[0m         \u001b[0;31m# We are left with two options: a single key, and a collection of keys,\u001b[0m\u001b[0;34m\u001b[0m\u001b[0;34m\u001b[0m\u001b[0;34m\u001b[0m\u001b[0m\n",
      "\u001b[0;32m~/anaconda3/envs/poly-data/lib/python3.7/site-packages/pandas/core/frame.py\u001b[0m in \u001b[0;36m_getitem_bool_array\u001b[0;34m(self, key)\u001b[0m\n\u001b[1;32m   3036\u001b[0m         \u001b[0;31m# check_bool_indexer will throw exception if Series key cannot\u001b[0m\u001b[0;34m\u001b[0m\u001b[0;34m\u001b[0m\u001b[0;34m\u001b[0m\u001b[0m\n\u001b[1;32m   3037\u001b[0m         \u001b[0;31m# be reindexed to match DataFrame rows\u001b[0m\u001b[0;34m\u001b[0m\u001b[0;34m\u001b[0m\u001b[0;34m\u001b[0m\u001b[0m\n\u001b[0;32m-> 3038\u001b[0;31m         \u001b[0mkey\u001b[0m \u001b[0;34m=\u001b[0m \u001b[0mcheck_bool_indexer\u001b[0m\u001b[0;34m(\u001b[0m\u001b[0mself\u001b[0m\u001b[0;34m.\u001b[0m\u001b[0mindex\u001b[0m\u001b[0;34m,\u001b[0m \u001b[0mkey\u001b[0m\u001b[0;34m)\u001b[0m\u001b[0;34m\u001b[0m\u001b[0;34m\u001b[0m\u001b[0m\n\u001b[0m\u001b[1;32m   3039\u001b[0m         \u001b[0mindexer\u001b[0m \u001b[0;34m=\u001b[0m \u001b[0mkey\u001b[0m\u001b[0;34m.\u001b[0m\u001b[0mnonzero\u001b[0m\u001b[0;34m(\u001b[0m\u001b[0;34m)\u001b[0m\u001b[0;34m[\u001b[0m\u001b[0;36m0\u001b[0m\u001b[0;34m]\u001b[0m\u001b[0;34m\u001b[0m\u001b[0;34m\u001b[0m\u001b[0m\n\u001b[1;32m   3040\u001b[0m         \u001b[0;32mreturn\u001b[0m \u001b[0mself\u001b[0m\u001b[0;34m.\u001b[0m\u001b[0mtake\u001b[0m\u001b[0;34m(\u001b[0m\u001b[0mindexer\u001b[0m\u001b[0;34m,\u001b[0m \u001b[0maxis\u001b[0m\u001b[0;34m=\u001b[0m\u001b[0;36m0\u001b[0m\u001b[0;34m)\u001b[0m\u001b[0;34m\u001b[0m\u001b[0;34m\u001b[0m\u001b[0m\n",
      "\u001b[0;32m~/anaconda3/envs/poly-data/lib/python3.7/site-packages/pandas/core/indexing.py\u001b[0m in \u001b[0;36mcheck_bool_indexer\u001b[0;34m(index, key)\u001b[0m\n\u001b[1;32m   2405\u001b[0m     \u001b[0mresult\u001b[0m \u001b[0;34m=\u001b[0m \u001b[0mkey\u001b[0m\u001b[0;34m\u001b[0m\u001b[0;34m\u001b[0m\u001b[0m\n\u001b[1;32m   2406\u001b[0m     \u001b[0;32mif\u001b[0m \u001b[0misinstance\u001b[0m\u001b[0;34m(\u001b[0m\u001b[0mkey\u001b[0m\u001b[0;34m,\u001b[0m \u001b[0mABCSeries\u001b[0m\u001b[0;34m)\u001b[0m \u001b[0;32mand\u001b[0m \u001b[0;32mnot\u001b[0m \u001b[0mkey\u001b[0m\u001b[0;34m.\u001b[0m\u001b[0mindex\u001b[0m\u001b[0;34m.\u001b[0m\u001b[0mequals\u001b[0m\u001b[0;34m(\u001b[0m\u001b[0mindex\u001b[0m\u001b[0;34m)\u001b[0m\u001b[0;34m:\u001b[0m\u001b[0;34m\u001b[0m\u001b[0;34m\u001b[0m\u001b[0m\n\u001b[0;32m-> 2407\u001b[0;31m         \u001b[0mresult\u001b[0m \u001b[0;34m=\u001b[0m \u001b[0mresult\u001b[0m\u001b[0;34m.\u001b[0m\u001b[0mreindex\u001b[0m\u001b[0;34m(\u001b[0m\u001b[0mindex\u001b[0m\u001b[0;34m)\u001b[0m\u001b[0;34m\u001b[0m\u001b[0;34m\u001b[0m\u001b[0m\n\u001b[0m\u001b[1;32m   2408\u001b[0m         \u001b[0mmask\u001b[0m \u001b[0;34m=\u001b[0m \u001b[0misna\u001b[0m\u001b[0;34m(\u001b[0m\u001b[0mresult\u001b[0m\u001b[0;34m.\u001b[0m\u001b[0m_values\u001b[0m\u001b[0;34m)\u001b[0m\u001b[0;34m\u001b[0m\u001b[0;34m\u001b[0m\u001b[0m\n\u001b[1;32m   2409\u001b[0m         \u001b[0;32mif\u001b[0m \u001b[0mmask\u001b[0m\u001b[0;34m.\u001b[0m\u001b[0many\u001b[0m\u001b[0;34m(\u001b[0m\u001b[0;34m)\u001b[0m\u001b[0;34m:\u001b[0m\u001b[0;34m\u001b[0m\u001b[0;34m\u001b[0m\u001b[0m\n",
      "\u001b[0;32m~/anaconda3/envs/poly-data/lib/python3.7/site-packages/pandas/core/series.py\u001b[0m in \u001b[0;36mreindex\u001b[0;34m(self, index, **kwargs)\u001b[0m\n\u001b[1;32m   4219\u001b[0m     \u001b[0;34m@\u001b[0m\u001b[0mAppender\u001b[0m\u001b[0;34m(\u001b[0m\u001b[0mgeneric\u001b[0m\u001b[0;34m.\u001b[0m\u001b[0mNDFrame\u001b[0m\u001b[0;34m.\u001b[0m\u001b[0mreindex\u001b[0m\u001b[0;34m.\u001b[0m\u001b[0m__doc__\u001b[0m\u001b[0;34m)\u001b[0m\u001b[0;34m\u001b[0m\u001b[0;34m\u001b[0m\u001b[0m\n\u001b[1;32m   4220\u001b[0m     \u001b[0;32mdef\u001b[0m \u001b[0mreindex\u001b[0m\u001b[0;34m(\u001b[0m\u001b[0mself\u001b[0m\u001b[0;34m,\u001b[0m \u001b[0mindex\u001b[0m\u001b[0;34m=\u001b[0m\u001b[0;32mNone\u001b[0m\u001b[0;34m,\u001b[0m \u001b[0;34m**\u001b[0m\u001b[0mkwargs\u001b[0m\u001b[0;34m)\u001b[0m\u001b[0;34m:\u001b[0m\u001b[0;34m\u001b[0m\u001b[0;34m\u001b[0m\u001b[0m\n\u001b[0;32m-> 4221\u001b[0;31m         \u001b[0;32mreturn\u001b[0m \u001b[0msuper\u001b[0m\u001b[0;34m(\u001b[0m\u001b[0;34m)\u001b[0m\u001b[0;34m.\u001b[0m\u001b[0mreindex\u001b[0m\u001b[0;34m(\u001b[0m\u001b[0mindex\u001b[0m\u001b[0;34m=\u001b[0m\u001b[0mindex\u001b[0m\u001b[0;34m,\u001b[0m \u001b[0;34m**\u001b[0m\u001b[0mkwargs\u001b[0m\u001b[0;34m)\u001b[0m\u001b[0;34m\u001b[0m\u001b[0;34m\u001b[0m\u001b[0m\n\u001b[0m\u001b[1;32m   4222\u001b[0m \u001b[0;34m\u001b[0m\u001b[0m\n\u001b[1;32m   4223\u001b[0m     def drop(\n",
      "\u001b[0;32m~/anaconda3/envs/poly-data/lib/python3.7/site-packages/pandas/core/generic.py\u001b[0m in \u001b[0;36mreindex\u001b[0;34m(self, *args, **kwargs)\u001b[0m\n\u001b[1;32m   4512\u001b[0m         \u001b[0;31m# perform the reindex on the axes\u001b[0m\u001b[0;34m\u001b[0m\u001b[0;34m\u001b[0m\u001b[0;34m\u001b[0m\u001b[0m\n\u001b[1;32m   4513\u001b[0m         return self._reindex_axes(\n\u001b[0;32m-> 4514\u001b[0;31m             \u001b[0maxes\u001b[0m\u001b[0;34m,\u001b[0m \u001b[0mlevel\u001b[0m\u001b[0;34m,\u001b[0m \u001b[0mlimit\u001b[0m\u001b[0;34m,\u001b[0m \u001b[0mtolerance\u001b[0m\u001b[0;34m,\u001b[0m \u001b[0mmethod\u001b[0m\u001b[0;34m,\u001b[0m \u001b[0mfill_value\u001b[0m\u001b[0;34m,\u001b[0m \u001b[0mcopy\u001b[0m\u001b[0;34m\u001b[0m\u001b[0;34m\u001b[0m\u001b[0m\n\u001b[0m\u001b[1;32m   4515\u001b[0m         ).__finalize__(self)\n\u001b[1;32m   4516\u001b[0m \u001b[0;34m\u001b[0m\u001b[0m\n",
      "\u001b[0;32m~/anaconda3/envs/poly-data/lib/python3.7/site-packages/pandas/core/generic.py\u001b[0m in \u001b[0;36m_reindex_axes\u001b[0;34m(self, axes, level, limit, tolerance, method, fill_value, copy)\u001b[0m\n\u001b[1;32m   4533\u001b[0m                 \u001b[0mfill_value\u001b[0m\u001b[0;34m=\u001b[0m\u001b[0mfill_value\u001b[0m\u001b[0;34m,\u001b[0m\u001b[0;34m\u001b[0m\u001b[0;34m\u001b[0m\u001b[0m\n\u001b[1;32m   4534\u001b[0m                 \u001b[0mcopy\u001b[0m\u001b[0;34m=\u001b[0m\u001b[0mcopy\u001b[0m\u001b[0;34m,\u001b[0m\u001b[0;34m\u001b[0m\u001b[0;34m\u001b[0m\u001b[0m\n\u001b[0;32m-> 4535\u001b[0;31m                 \u001b[0mallow_dups\u001b[0m\u001b[0;34m=\u001b[0m\u001b[0;32mFalse\u001b[0m\u001b[0;34m,\u001b[0m\u001b[0;34m\u001b[0m\u001b[0;34m\u001b[0m\u001b[0m\n\u001b[0m\u001b[1;32m   4536\u001b[0m             )\n\u001b[1;32m   4537\u001b[0m \u001b[0;34m\u001b[0m\u001b[0m\n",
      "\u001b[0;32m~/anaconda3/envs/poly-data/lib/python3.7/site-packages/pandas/core/generic.py\u001b[0m in \u001b[0;36m_reindex_with_indexers\u001b[0;34m(self, reindexers, fill_value, copy, allow_dups)\u001b[0m\n\u001b[1;32m   4575\u001b[0m                 \u001b[0mfill_value\u001b[0m\u001b[0;34m=\u001b[0m\u001b[0mfill_value\u001b[0m\u001b[0;34m,\u001b[0m\u001b[0;34m\u001b[0m\u001b[0;34m\u001b[0m\u001b[0m\n\u001b[1;32m   4576\u001b[0m                 \u001b[0mallow_dups\u001b[0m\u001b[0;34m=\u001b[0m\u001b[0mallow_dups\u001b[0m\u001b[0;34m,\u001b[0m\u001b[0;34m\u001b[0m\u001b[0;34m\u001b[0m\u001b[0m\n\u001b[0;32m-> 4577\u001b[0;31m                 \u001b[0mcopy\u001b[0m\u001b[0;34m=\u001b[0m\u001b[0mcopy\u001b[0m\u001b[0;34m,\u001b[0m\u001b[0;34m\u001b[0m\u001b[0;34m\u001b[0m\u001b[0m\n\u001b[0m\u001b[1;32m   4578\u001b[0m             )\n\u001b[1;32m   4579\u001b[0m \u001b[0;34m\u001b[0m\u001b[0m\n",
      "\u001b[0;32m~/anaconda3/envs/poly-data/lib/python3.7/site-packages/pandas/core/internals/managers.py\u001b[0m in \u001b[0;36mreindex_indexer\u001b[0;34m(self, new_axis, indexer, axis, fill_value, allow_dups, copy)\u001b[0m\n\u001b[1;32m   1249\u001b[0m         \u001b[0;31m# some axes don't allow reindexing with dups\u001b[0m\u001b[0;34m\u001b[0m\u001b[0;34m\u001b[0m\u001b[0;34m\u001b[0m\u001b[0m\n\u001b[1;32m   1250\u001b[0m         \u001b[0;32mif\u001b[0m \u001b[0;32mnot\u001b[0m \u001b[0mallow_dups\u001b[0m\u001b[0;34m:\u001b[0m\u001b[0;34m\u001b[0m\u001b[0;34m\u001b[0m\u001b[0m\n\u001b[0;32m-> 1251\u001b[0;31m             \u001b[0mself\u001b[0m\u001b[0;34m.\u001b[0m\u001b[0maxes\u001b[0m\u001b[0;34m[\u001b[0m\u001b[0maxis\u001b[0m\u001b[0;34m]\u001b[0m\u001b[0;34m.\u001b[0m\u001b[0m_can_reindex\u001b[0m\u001b[0;34m(\u001b[0m\u001b[0mindexer\u001b[0m\u001b[0;34m)\u001b[0m\u001b[0;34m\u001b[0m\u001b[0;34m\u001b[0m\u001b[0m\n\u001b[0m\u001b[1;32m   1252\u001b[0m \u001b[0;34m\u001b[0m\u001b[0m\n\u001b[1;32m   1253\u001b[0m         \u001b[0;32mif\u001b[0m \u001b[0maxis\u001b[0m \u001b[0;34m>=\u001b[0m \u001b[0mself\u001b[0m\u001b[0;34m.\u001b[0m\u001b[0mndim\u001b[0m\u001b[0;34m:\u001b[0m\u001b[0;34m\u001b[0m\u001b[0;34m\u001b[0m\u001b[0m\n",
      "\u001b[0;32m~/anaconda3/envs/poly-data/lib/python3.7/site-packages/pandas/core/indexes/base.py\u001b[0m in \u001b[0;36m_can_reindex\u001b[0;34m(self, indexer)\u001b[0m\n\u001b[1;32m   3360\u001b[0m         \u001b[0;31m# trying to reindex on an axis with duplicates\u001b[0m\u001b[0;34m\u001b[0m\u001b[0;34m\u001b[0m\u001b[0;34m\u001b[0m\u001b[0m\n\u001b[1;32m   3361\u001b[0m         \u001b[0;32mif\u001b[0m \u001b[0;32mnot\u001b[0m \u001b[0mself\u001b[0m\u001b[0;34m.\u001b[0m\u001b[0mis_unique\u001b[0m \u001b[0;32mand\u001b[0m \u001b[0mlen\u001b[0m\u001b[0;34m(\u001b[0m\u001b[0mindexer\u001b[0m\u001b[0;34m)\u001b[0m\u001b[0;34m:\u001b[0m\u001b[0;34m\u001b[0m\u001b[0;34m\u001b[0m\u001b[0m\n\u001b[0;32m-> 3362\u001b[0;31m             \u001b[0;32mraise\u001b[0m \u001b[0mValueError\u001b[0m\u001b[0;34m(\u001b[0m\u001b[0;34m\"cannot reindex from a duplicate axis\"\u001b[0m\u001b[0;34m)\u001b[0m\u001b[0;34m\u001b[0m\u001b[0;34m\u001b[0m\u001b[0m\n\u001b[0m\u001b[1;32m   3363\u001b[0m \u001b[0;34m\u001b[0m\u001b[0m\n\u001b[1;32m   3364\u001b[0m     \u001b[0;32mdef\u001b[0m \u001b[0mreindex\u001b[0m\u001b[0;34m(\u001b[0m\u001b[0mself\u001b[0m\u001b[0;34m,\u001b[0m \u001b[0mtarget\u001b[0m\u001b[0;34m,\u001b[0m \u001b[0mmethod\u001b[0m\u001b[0;34m=\u001b[0m\u001b[0;32mNone\u001b[0m\u001b[0;34m,\u001b[0m \u001b[0mlevel\u001b[0m\u001b[0;34m=\u001b[0m\u001b[0;32mNone\u001b[0m\u001b[0;34m,\u001b[0m \u001b[0mlimit\u001b[0m\u001b[0;34m=\u001b[0m\u001b[0;32mNone\u001b[0m\u001b[0;34m,\u001b[0m \u001b[0mtolerance\u001b[0m\u001b[0;34m=\u001b[0m\u001b[0;32mNone\u001b[0m\u001b[0;34m)\u001b[0m\u001b[0;34m:\u001b[0m\u001b[0;34m\u001b[0m\u001b[0;34m\u001b[0m\u001b[0m\n",
      "\u001b[0;31mValueError\u001b[0m: cannot reindex from a duplicate axis"
     ],
     "ename": "ValueError",
     "evalue": "cannot reindex from a duplicate axis",
     "output_type": "error"
    }
   ],
   "source": [
    "df_p = {}\n",
    "for photographer in df[\"featured-photo-photographer\"].unique():\n",
    "    "
   ],
   "metadata": {
    "collapsed": false,
    "pycharm": {
     "name": "#%%\n",
     "is_executing": false
    }
   }
  }
 ],
 "metadata": {
  "kernelspec": {
   "name": "python3",
   "language": "python",
   "display_name": "Python 3"
  },
  "language_info": {
   "codemirror_mode": {
    "name": "ipython",
    "version": 3
   },
   "file_extension": ".py",
   "mimetype": "text/x-python",
   "name": "python",
   "nbconvert_exporter": "python",
   "pygments_lexer": "ipython3",
   "version": "3.7.4"
  },
  "pycharm": {
   "stem_cell": {
    "cell_type": "raw",
    "source": [],
    "metadata": {
     "collapsed": false
    }
   }
  }
 },
 "nbformat": 4,
 "nbformat_minor": 4
}